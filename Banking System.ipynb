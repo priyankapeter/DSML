{
 "cells": [
  {
   "cell_type": "code",
   "execution_count": 1,
   "id": "5e6f0f56-4c8c-4878-bb50-8aca0b710440",
   "metadata": {},
   "outputs": [
    {
     "name": "stdout",
     "output_type": "stream",
     "text": [
      "\n",
      "Welcome to the Bank\n",
      "1. Create Account\n",
      "2. Login\n",
      "3. Exit\n"
     ]
    },
    {
     "name": "stdin",
     "output_type": "stream",
     "text": [
      "Enter your choice:  1\n",
      "Enter your name:  Anusree\n"
     ]
    },
    {
     "name": "stdout",
     "output_type": "stream",
     "text": [
      "Account created successfully. Account Number: 63396\n",
      "\n",
      "Welcome to the Bank\n",
      "1. Create Account\n",
      "2. Login\n",
      "3. Exit\n"
     ]
    },
    {
     "name": "stdin",
     "output_type": "stream",
     "text": [
      "Enter your choice:  2\n",
      "Enter your account number:  63396\n"
     ]
    },
    {
     "name": "stdout",
     "output_type": "stream",
     "text": [
      "\n",
      "Welcome, Anusree\n",
      "1. Deposit\n",
      "2. Withdraw\n",
      "3. Check Balance\n",
      "4. Logout\n"
     ]
    },
    {
     "name": "stdin",
     "output_type": "stream",
     "text": [
      "Enter your option:  1\n",
      "Enter the amount to deposit:  10000\n"
     ]
    },
    {
     "name": "stdout",
     "output_type": "stream",
     "text": [
      "Amount deposited successfully. New balance: 10000.0\n",
      "\n",
      "Welcome, Anusree\n",
      "1. Deposit\n",
      "2. Withdraw\n",
      "3. Check Balance\n",
      "4. Logout\n"
     ]
    },
    {
     "name": "stdin",
     "output_type": "stream",
     "text": [
      "Enter your option:  2\n",
      "Enter the amount to withdraw:  1000\n"
     ]
    },
    {
     "name": "stdout",
     "output_type": "stream",
     "text": [
      "Amount withdrawn successfully. New balance: 9000.0\n",
      "\n",
      "Welcome, Anusree\n",
      "1. Deposit\n",
      "2. Withdraw\n",
      "3. Check Balance\n",
      "4. Logout\n"
     ]
    },
    {
     "name": "stdin",
     "output_type": "stream",
     "text": [
      "Enter your option:  3\n"
     ]
    },
    {
     "name": "stdout",
     "output_type": "stream",
     "text": [
      "Account Balance: 9000.0\n",
      "\n",
      "Welcome, Anusree\n",
      "1. Deposit\n",
      "2. Withdraw\n",
      "3. Check Balance\n",
      "4. Logout\n"
     ]
    },
    {
     "name": "stdin",
     "output_type": "stream",
     "text": [
      "Enter your option:  4\n"
     ]
    },
    {
     "name": "stdout",
     "output_type": "stream",
     "text": [
      "\n",
      "Welcome to the Bank\n",
      "1. Create Account\n",
      "2. Login\n",
      "3. Exit\n"
     ]
    },
    {
     "name": "stdin",
     "output_type": "stream",
     "text": [
      "Enter your choice:  3\n"
     ]
    },
    {
     "name": "stdout",
     "output_type": "stream",
     "text": [
      "Thank you for using the Bank. Goodbye!\n"
     ]
    }
   ],
   "source": [
    " import random\n",
    "\n",
    "class Account:\n",
    "    def __init__(self, account_number, account_holder, balance=0):\n",
    "        self.account_number = account_number\n",
    "        self.account_holder = account_holder\n",
    "        self.balance = balance\n",
    "\n",
    "    def deposit(self, amount):\n",
    "        self.balance += amount\n",
    "        print(\"Amount deposited successfully. New balance:\", self.balance)\n",
    "\n",
    "    def withdraw(self, amount):\n",
    "        if self.balance >= amount:\n",
    "            self.balance -= amount\n",
    "            print(\"Amount withdrawn successfully. New balance:\", self.balance)\n",
    "        else:\n",
    "            print(\"Insufficient funds!\")\n",
    "\n",
    "    def display_balance(self):\n",
    "        print(\"Account Balance:\", self.balance)\n",
    "\n",
    "class Bank:\n",
    "    def __init__(self):\n",
    "        self.accounts = {}\n",
    "\n",
    "    def create_account(self, account_holder):\n",
    "        account_number = random.randint(10000, 99999)\n",
    "        while account_number in self.accounts:\n",
    "            account_number = random.randint(10000, 99999)\n",
    "        self.accounts[account_number] = Account(account_number, account_holder)\n",
    "        print(\"Account created successfully. Account Number:\", account_number)\n",
    "\n",
    "    def login(self, account_number):\n",
    "        if account_number in self.accounts:\n",
    "            return self.accounts[account_number]\n",
    "        else:\n",
    "            print(\"Invalid account number!\")\n",
    "            return None\n",
    "\n",
    "def main():\n",
    "    bank = Bank()\n",
    "\n",
    "    while True:\n",
    "        print(\"\\nWelcome to the Bank\")\n",
    "        print(\"1. Create Account\")\n",
    "        print(\"2. Login\")\n",
    "        print(\"3. Exit\")\n",
    "        choice = input(\"Enter your choice: \")\n",
    "\n",
    "        if choice == '1':\n",
    "            account_holder = input(\"Enter your name: \")\n",
    "            bank.create_account(account_holder)\n",
    "        elif choice == '2':\n",
    "            account_number = int(input(\"Enter your account number: \"))\n",
    "            account = bank.login(account_number)\n",
    "            if account:\n",
    "                while True:\n",
    "                    print(\"\\nWelcome,\", account.account_holder)\n",
    "                    print(\"1. Deposit\")\n",
    "                    print(\"2. Withdraw\")\n",
    "                    print(\"3. Check Balance\")\n",
    "                    print(\"4. Logout\")\n",
    "                    option = input(\"Enter your option: \")\n",
    "                    if option == '1':\n",
    "                        amount = float(input(\"Enter the amount to deposit: \"))\n",
    "                        account.deposit(amount)\n",
    "                    elif option == '2':\n",
    "                        amount = float(input(\"Enter the amount to withdraw: \"))\n",
    "                        account.withdraw(amount)\n",
    "                    elif option == '3':\n",
    "                        account.display_balance()\n",
    "                    elif option == '4':\n",
    "                        break\n",
    "                    else:\n",
    "                        print(\"Invalid option!\")\n",
    "        elif choice == '3':\n",
    "            print(\"Thank you for using the Bank. Goodbye!\")\n",
    "            break\n",
    "        else:\n",
    "            print(\"Invalid choice!\")\n",
    "\n",
    "if __name__ == \"__main__\":\n",
    "    main()"
   ]
  },
  {
   "cell_type": "code",
   "execution_count": null,
   "id": "8a76d05c-a90f-401e-b6b3-3c626ff70132",
   "metadata": {},
   "outputs": [],
   "source": []
  }
 ],
 "metadata": {
  "kernelspec": {
   "display_name": "Python 3 (ipykernel)",
   "language": "python",
   "name": "python3"
  },
  "language_info": {
   "codemirror_mode": {
    "name": "ipython",
    "version": 3
   },
   "file_extension": ".py",
   "mimetype": "text/x-python",
   "name": "python",
   "nbconvert_exporter": "python",
   "pygments_lexer": "ipython3",
   "version": "3.11.7"
  }
 },
 "nbformat": 4,
 "nbformat_minor": 5
}
